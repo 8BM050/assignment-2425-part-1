{
 "cells": [
  {
   "cell_type": "markdown",
   "metadata": {},
   "source": [
    "# 8BM050 - Practical Assignment Part 1\n",
    "Welcome to the first practical assignment of the course 8BM050. This assignment is divided into ? questions and should be solved individually. The amount of points for each question is given in the question text. The total amount of points is 100. \n",
    "\n",
    "## Submission\n",
    "Submit your solutions as a single Jupyter notebook file. The notebook should contain all the code and text answers."
   ]
  },
  {
   "cell_type": "markdown",
   "metadata": {},
   "source": [
    "## Packages\n",
    "You are allowed to use only the packages that are imported in the next cell. If you want to use any other package, you need to ask for permission."
   ]
  },
  {
   "cell_type": "code",
   "execution_count": 1,
   "metadata": {},
   "outputs": [
    {
     "name": "stdout",
     "output_type": "stream",
     "text": [
      "Detected IPython. Loading juliacall extension. See https://juliapy.github.io/PythonCall.jl/stable/compat/#IPython\n"
     ]
    },
    {
     "name": "stderr",
     "output_type": "stream",
     "text": [
      "  Activating project at `~/.julia/environments/diffeqpy`\n"
     ]
    }
   ],
   "source": [
    "# packages\n",
    "from diffeqpy import ode\n",
    "import numpy as np\n",
    "import matplotlib.pyplot as plt\n",
    "import matplotlib as mpl"
   ]
  },
  {
   "cell_type": "markdown",
   "metadata": {},
   "source": [
    "# Question 1\n",
    "(20 points)"
   ]
  },
  {
   "cell_type": "markdown",
   "metadata": {},
   "source": [
    "\n",
    "\n",
    "**a)** Consider the following unweighted directed graph:\n",
    "\n",
    "![graph](assets/assignment_1_graph.png)\n",
    "\n",
    "Define a python variable `adjacency_matrix` that is a `numpy array` representing the adjacency matrix of the graph. The element index `(i, j)` should correspond to the edge from node `i` to node `j`. If there is no edge between the nodes, the element should be zero."
   ]
  },
  {
   "cell_type": "code",
   "execution_count": 2,
   "metadata": {},
   "outputs": [],
   "source": [
    "# Your answer here"
   ]
  },
  {
   "cell_type": "markdown",
   "metadata": {},
   "source": [
    "**b)** Define two functions: `in_degree` and `out_degree`, that receive the adjacency matrix and a node index and return the in-degree and out-degree of the node, respectively."
   ]
  },
  {
   "cell_type": "code",
   "execution_count": 3,
   "metadata": {},
   "outputs": [],
   "source": [
    "def in_degree(adjacency_matrix, node_index):\n",
    "  # Your answer here\n",
    "  return None\n",
    "\n",
    "def out_degree(adjacency_matrix, node_index):\n",
    "  # Your answer here\n",
    "  return None"
   ]
  },
  {
   "cell_type": "markdown",
   "metadata": {},
   "source": [
    "**c)** Create a plot of the in-degree and out-degree distribution of the graph. The x-axis should represent the degree and the y-axis the number of nodes with that degree."
   ]
  },
  {
   "cell_type": "code",
   "execution_count": 4,
   "metadata": {},
   "outputs": [],
   "source": [
    "# Your answer here"
   ]
  },
  {
   "cell_type": "markdown",
   "metadata": {},
   "source": [
    "**d)** Use the adjacency matrix to compute the amount of walks of length 6 that exist in the graph that start and end in the same node."
   ]
  },
  {
   "cell_type": "code",
   "execution_count": 5,
   "metadata": {},
   "outputs": [],
   "source": [
    "# Your answer here"
   ]
  },
  {
   "cell_type": "markdown",
   "metadata": {},
   "source": [
    "## Question 2\n",
    "(20 points)\n",
    "\n",
    "We have two molecules $A$ and $B$. The molecule $A$ is spontaneously converted into a molecule $B$ with a rate $k_1$. In the presence of a molecule $X$, the rate of conversion of $A$ into $B$ is increased with $k_{\\text{stim}}X$. The molecule $B$ is spontaneously converted back into $A$ with a rate $k_2$. The molecule $X$ does not affect the conversion of $B$ into $A$. Additionally, the molecule $X$ is not produced, but degrades with a rate $k_{\\text{deg}}$. "
   ]
  },
  {
   "cell_type": "markdown",
   "metadata": {},
   "source": [
    "**a)** Draw a diagram of the system. Indicate the reactions and the rates of each reaction."
   ]
  },
  {
   "cell_type": "markdown",
   "metadata": {},
   "source": [
    "\n",
    "Your answer here"
   ]
  },
  {
   "cell_type": "markdown",
   "metadata": {},
   "source": [
    "**b)** Write down the system of differential equations that describes the system."
   ]
  },
  {
   "cell_type": "markdown",
   "metadata": {},
   "source": [
    "Your answer here"
   ]
  },
  {
   "cell_type": "markdown",
   "metadata": {},
   "source": [
    "**c)** Given are the following parameter values and initial conditions. \n",
    "- $k_1 = 0.002$\n",
    "- $k_2 = 0.05$\n",
    "- $k_{\\text{stim}} = 0.03$\n",
    "- $k_{\\text{deg}} = 0.05$\n",
    "\n",
    "Use the initial conditions:\n",
    "- $A_0 = 100$ mM\n",
    "- $B_0 = 0$ mM\n",
    "- $X_0 = 1$ mM\n",
    "\n",
    "Derive the units of the rate constants."
   ]
  },
  {
   "cell_type": "markdown",
   "metadata": {},
   "source": [
    "Answer to question **c**:"
   ]
  },
  {
   "cell_type": "markdown",
   "metadata": {},
   "source": [
    "Your answer here"
   ]
  },
  {
   "cell_type": "markdown",
   "metadata": {},
   "source": [
    "**d)** Implement the system of differential equations and simulate it for 100 minutes. Plot the values of $A$, $B$ and $X$ over time."
   ]
  },
  {
   "cell_type": "code",
   "execution_count": 9,
   "metadata": {},
   "outputs": [],
   "source": [
    "# Your answer here"
   ]
  },
  {
   "cell_type": "markdown",
   "metadata": {},
   "source": [
    "## Question 3\n",
    "(20 points)\n",
    "\n",
    "In [^1], Shi et al. defined a differential equation model of caffeine in the body. Their model looked like this:\n",
    "\n",
    "$$ \\begin{align}\n",
    "&\\frac{\\mathrm{d}C^{pl} (t)}{\\mathrm{d}t} &=& -k_{12}C^{pl} (t) + k_{21}C^{int} (t) - k_{10}C^{pl} (t) \\\\\n",
    "&\\frac{\\mathrm{d}C^{int} (t)}{\\mathrm{d}t} &=& k_{12}C^{pl} (t) - k_{21}C^{int} (t) \\\\\n",
    "\\end{align} $$\n",
    "\n",
    "Where $C^{pl} (t)$ is the concentration of caffeine in the blood plasma, $C^{int} (t)$ is the concentration of caffeine in the interstitial compartment. The parameters are given by $k_{12}$, $k_{21}$, and $k_{10}$. \n",
    "\n",
    "[^1]: J. Shi, N. L. Benowitz, C. P. Denaro, and L. B. Sheiner, “Pharmacokinetic-pharmacodynamic\n",
    "modeling of caffeine: Tolerance to pressor effects,” Clinical Pharmacology and Therapeutics, vol.\n",
    "53, no. 1, pp. 6–14, Jan. 1993, doi: 10.1038/clpt.1993.3."
   ]
  },
  {
   "cell_type": "markdown",
   "metadata": {},
   "source": [
    "**a)** Draw a diagram of the system. Indicate the fluxes and the rates of each flux."
   ]
  },
  {
   "cell_type": "markdown",
   "metadata": {},
   "source": [
    "Your answer here."
   ]
  },
  {
   "cell_type": "markdown",
   "metadata": {},
   "source": [
    "**b)** The model was calibrated by Shi et al., the parameter values for the given parameters are:\n",
    "- $k_{12} = 1.64 \\text{ h}^{-1}$\n",
    "- $k_{21} = 1.91 \\text{ h}^{-1}$\n",
    "- $k_{10} = 0.34 \\text{ h}^{-1}$\n",
    "\n",
    "Use the following initial conditions:\n",
    "- $C^{pl} (0) = 13.0 \\text{ }\\mu \\text{g} \\cdot \\text{mL}^{-1}$\n",
    "- $C^{int} (0) = 0.0 \\text{ }\\mu \\text{g} \\cdot \\text{mL}^{-1}$\n",
    "\n",
    "Simulate the model from 0 to 24 hours and create a figure of the result."
   ]
  },
  {
   "cell_type": "code",
   "execution_count": null,
   "metadata": {},
   "outputs": [],
   "source": [
    "# Your answer here"
   ]
  },
  {
   "cell_type": "markdown",
   "metadata": {},
   "source": [
    "**c)** Shi et al. reported variability in the $k_{10}$ parameter as a standard deviation of $\\sigma_{10} = 0.069 \\text{ h}^{-1}$. Simulate the model for $k_{10}$ values of $0.34 - \\sigma_{10}$ and $0.34 + \\sigma_{10}$ and plot the results in a single figure. Describe the effect of the variability of the $k_{10}$ parameter on the observed concentration values of caffeine."
   ]
  },
  {
   "cell_type": "code",
   "execution_count": null,
   "metadata": {},
   "outputs": [],
   "source": [
    "# Your answer here"
   ]
  }
 ],
 "metadata": {
  "kernelspec": {
   "display_name": "8bm050",
   "language": "python",
   "name": "python3"
  },
  "language_info": {
   "codemirror_mode": {
    "name": "ipython",
    "version": 3
   },
   "file_extension": ".py",
   "mimetype": "text/x-python",
   "name": "python",
   "nbconvert_exporter": "python",
   "pygments_lexer": "ipython3",
   "version": "3.12.5"
  }
 },
 "nbformat": 4,
 "nbformat_minor": 2
}
