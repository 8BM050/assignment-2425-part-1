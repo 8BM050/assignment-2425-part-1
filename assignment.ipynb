{
 "cells": [
  {
   "cell_type": "markdown",
   "metadata": {},
   "source": [
    "# 8BM050 - Practical Assignment Part 1\n",
    "Welcome to the first practical assignment of the course 8BM050. This assignment is divided into 4 questions and should be solved individually. The amount of points for each question is given in the question text. The total amount of points you can obtain is 50. Your grade at the end can be obtained by dividing the amount of points you scored by 5."
   ]
  },
  {
   "cell_type": "markdown",
   "metadata": {},
   "source": [
    "## Instructions"
   ]
  },
  {
   "cell_type": "markdown",
   "metadata": {},
   "source": [
    "\n",
    "### Submission\n",
    "Submit your assignment as a \"zipped\" folder containing this Jupyter notebook, the `assets` directory, and all the pictures that you have included into your Jupyter notebook.\n",
    "\n",
    "### Packages\n",
    "You are allowed to use only the packages that are imported at the start of the questions. If you want to use any other package, you need to ask for explicit permission. However, note that you will be able to do the assignment with only the packages below.\n",
    "\n",
    "### Using Jupyter Notebooks\n",
    "For each question, your answer may require a written text answer, an image, a piece of code, or a combination of these. Below is a short overview of how to include specific things in a Jupyter notebook.\n",
    "\n",
    "#### Basic Syntax, Headings\n",
    "Text blocks use the _Markdown_ syntax. By default, Markdown produces the text you write in a Markdown block as regular text. To use bold text, enclose the part in asterisks (**), and for italics, use underscores (_). For example:\n",
    "\n",
    "```md\n",
    "**this piece of text is bold**\n",
    "_this is in italics_\n",
    "this is regular text\n",
    "```\n",
    "\n",
    "Additionally, you may want to use headings in your document. Headings are made using the #-character as follows\n",
    "\n",
    "```md\n",
    "# Level 1 heading\n",
    "## Level 2 heading\n",
    "### Level 3 heading\n",
    "```\n",
    "\n",
    "#### Images\n",
    "For some questions, you may need to insert an image. You can save the image on your computer in the `assets` folder, also located in the assignment files. Imagine you put your image named `answer-question-1.png` in the `assets` folder, and you then want to include the image in your markdown document. This can be done as follows:\n",
    "\n",
    "```md\n",
    "![alt text](assets/answer-question-1.png)\n",
    "```\n",
    "\n",
    "#### Equations\n",
    "If you want to type mathematical equations, you can use single dollar signs `$` to write inline math. For example:\n",
    "\n",
    "```md\n",
    "$x^3 + x^2 - 4 = 0$\n",
    "```\n",
    "\n",
    "Renders as: $x^3 + x^2 - 4 = 0$\n",
    "\n",
    "For centered, large equations, you can use double dollar signs `$$`. For example:\n",
    "\n",
    "```md\n",
    "$$\\int_0^3 x \\mathrm{d}x$$\n",
    "```\n",
    "\n",
    "Renders as: $$\\int_0^3 x \\mathrm{d}x$$"
   ]
  },
  {
   "cell_type": "markdown",
   "metadata": {},
   "source": [
    "# Assignment Questions"
   ]
  },
  {
   "cell_type": "code",
   "execution_count": 3,
   "metadata": {},
   "outputs": [],
   "source": [
    "# packages\n",
    "from scipy.integrate import odeint\n",
    "import numpy as np\n",
    "import matplotlib.pyplot as plt\n",
    "import matplotlib as mpl"
   ]
  },
  {
   "cell_type": "markdown",
   "metadata": {},
   "source": [
    "## Details\n",
    "| **Name** | **Student Number** | \n",
    "| --- | --- |\n",
    "| Put your name here | Put your student number here | "
   ]
  },
  {
   "cell_type": "markdown",
   "metadata": {},
   "source": [
    "## Question 1"
   ]
  },
  {
   "cell_type": "markdown",
   "metadata": {},
   "source": [
    "\n",
    "\n",
    "**a) (1pt)** \n",
    "\n",
    "Consider the following unweighted directed graph:\n",
    "\n",
    "![graph](assets/assignment_1_graph.png)\n",
    "\n",
    "Explain whether this graph is connected."
   ]
  },
  {
   "cell_type": "markdown",
   "metadata": {},
   "source": [
    "**b) (2pt)** \n",
    "\n",
    "Write down the adjacency matrix $A$ of this graph. Order the nodes from 0 to 10 in each row and column."
   ]
  },
  {
   "cell_type": "markdown",
   "metadata": {},
   "source": [
    "**c) (2pt)** \n",
    "\n",
    "Give the relationship between the adjacency matrix and the in-degree and out-degree of a node, either in words or in a formula."
   ]
  },
  {
   "cell_type": "markdown",
   "metadata": {},
   "source": [
    "**d) (3pt)** \n",
    "\n",
    "Explain the meaning of entry $i, j$ in a matrix $W_n$ which is defined as $W_n = A^n$. Use this formula in Python to compute the amount of walks of length 6 that exist in this graph that start and end in the same node."
   ]
  },
  {
   "cell_type": "markdown",
   "metadata": {},
   "source": [
    "## Question 2"
   ]
  },
  {
   "cell_type": "markdown",
   "metadata": {},
   "source": [
    "\n",
    "**a) (4pt)** \n",
    "\n",
    "Consider the reaction system:\n",
    "$$ \\begin{align*}\n",
    "    & R_1:  A + 2C \\rightarrow 2B \\\\\n",
    "    & R_2:  A + B \\rightarrow C + E  \\\\\n",
    "    & R_3:  2 E \\leftrightarrow F + G \\\\\n",
    "    & R_4:  E \\rightarrow D \\\\ \\end{align*} $$\n",
    "\n",
    "Give the substrate, reaction and substrate-reaction graphs. For the substrate-reaction graph, indicate the directionality and indicate the stoichiometric coefficients as edge weights."
   ]
  },
  {
   "cell_type": "markdown",
   "metadata": {},
   "source": [
    "**b) (2pt)** \n",
    "\n",
    "For the substrate graph, give the maximum degree in this graph. Which substrates have this degree? "
   ]
  },
  {
   "cell_type": "markdown",
   "metadata": {},
   "source": [
    "**c) (3pt)** \n",
    "\n",
    "For the reaction graph, compute the eccentricity of each node. What is the radius of this graph? And the diameter?"
   ]
  },
  {
   "cell_type": "markdown",
   "metadata": {},
   "source": [
    "**d) (3pt)** \n",
    "\n",
    "Use the substrate-reaction graph to assemble the stoichiometric matrix for the system in question 2a. Explain your steps. "
   ]
  },
  {
   "cell_type": "markdown",
   "metadata": {},
   "source": [
    "## Question 3"
   ]
  },
  {
   "cell_type": "markdown",
   "metadata": {},
   "source": [
    "\n",
    "We have two molecules $A$ and $B$. The molecule $A$ is spontaneously converted into a molecule $B$ with a rate $k_1$. In the presence of a molecule $X$, the rate of conversion of $A$ into $B$ is increased with $k_{\\text{stim}}X$. The molecule $B$ is spontaneously converted back into $A$ with a rate $k_2$. The molecule $X$ does not affect the conversion of $B$ into $A$. Additionally, the molecule $X$ is not produced, but degrades with a rate $k_{\\text{deg}}$. "
   ]
  },
  {
   "cell_type": "markdown",
   "metadata": {},
   "source": [
    "**a) (3pt)** \n",
    "\n",
    "Draw a diagram of the system. Indicate the reactions and the rates of each reaction.\n"
   ]
  },
  {
   "cell_type": "markdown",
   "metadata": {},
   "source": [
    "**b) (3pt)** \n",
    "\n",
    "Write down the system of differential equations that describes the system."
   ]
  },
  {
   "cell_type": "markdown",
   "metadata": {},
   "source": [
    "**c) (4pt)** \n",
    "\n",
    "Given are the following parameter values and initial conditions. \n",
    "- $k_1 = 0.002$\n",
    "- $k_2 = 0.05$\n",
    "- $k_{\\text{stim}} = 0.03$\n",
    "- $k_{\\text{deg}} = 0.05$\n",
    "\n",
    "Use the initial conditions:\n",
    "- $A_0 = 100$ mM\n",
    "- $B_0 = 0$ mM\n",
    "- $X_0 = 1$ mM\n",
    "\n",
    "Derive the units of the rate constants. Time units are in minutes."
   ]
  },
  {
   "cell_type": "markdown",
   "metadata": {},
   "source": [
    "**d) (5pt)** \n",
    "\n",
    "Implement the system of differential equations and simulate it for 100 minutes. Plot the values of $A$, $B$ and $X$ over time."
   ]
  },
  {
   "cell_type": "code",
   "execution_count": 4,
   "metadata": {},
   "outputs": [],
   "source": [
    "# Your Answer Here"
   ]
  },
  {
   "cell_type": "markdown",
   "metadata": {},
   "source": [
    "## Question 4"
   ]
  },
  {
   "cell_type": "markdown",
   "metadata": {},
   "source": [
    "\n",
    "In [^1], Shi et al. defined a differential equation model of caffeine in the body. Their model looked like this:\n",
    "\n",
    "$$ \\begin{align}\n",
    "&\\frac{\\mathrm{d}C^{pl} (t)}{\\mathrm{d}t} &=& -k_{12}C^{pl} (t) + k_{21}C^{int} (t) - k_{10}C^{pl} (t) \\\\\n",
    "&\\frac{\\mathrm{d}C^{int} (t)}{\\mathrm{d}t} &=& k_{12}C^{pl} (t) - k_{21}C^{int} (t) \\\\\n",
    "\\end{align} $$\n",
    "\n",
    "Where $C^{pl} (t)$ is the concentration of caffeine in the blood plasma, $C^{int} (t)$ is the concentration of caffeine in the interstitial compartment. The parameters are given by $k_{12}$, $k_{21}$, and $k_{10}$. \n",
    "\n",
    "[^1]: J. Shi, N. L. Benowitz, C. P. Denaro, and L. B. Sheiner, “Pharmacokinetic-pharmacodynamic\n",
    "modeling of caffeine: Tolerance to pressor effects,” Clinical Pharmacology and Therapeutics, vol.\n",
    "53, no. 1, pp. 6–14, Jan. 1993, doi: 10.1038/clpt.1993.3."
   ]
  },
  {
   "cell_type": "markdown",
   "metadata": {},
   "source": [
    "**a) (2pt)** \n",
    "\n",
    "Draw a diagram of the system. Indicate the fluxes and the rates of each flux."
   ]
  },
  {
   "cell_type": "markdown",
   "metadata": {},
   "source": [
    "**b) (3pt)** \n",
    "\n",
    "The model was calibrated by Shi et al., the parameter values for the given parameters are:\n",
    "- $k_{12} = 1.64 \\text{ h}^{-1}$\n",
    "- $k_{21} = 1.91 \\text{ h}^{-1}$\n",
    "- $k_{10} = 0.34 \\text{ h}^{-1}$\n",
    "\n",
    "Use the following initial conditions:\n",
    "- $C^{pl} (0) = 13.0 \\text{ }\\mu \\text{g} \\cdot \\text{mL}^{-1}$\n",
    "- $C^{int} (0) = 0.0 \\text{ }\\mu \\text{g} \\cdot \\text{mL}^{-1}$\n",
    "\n",
    "Simulate the model from 0 to 24 hours and create a figure of the result."
   ]
  },
  {
   "cell_type": "code",
   "execution_count": 5,
   "metadata": {},
   "outputs": [],
   "source": [
    "# Your answer here"
   ]
  },
  {
   "cell_type": "markdown",
   "metadata": {},
   "source": [
    "**c) (3pt)** \n",
    "\n",
    "Shi et al. reported variability in the $k_{10}$ parameter as a standard deviation of $\\sigma_{10} = 0.069 \\text{ h}^{-1}$. Simulate the model for $k_{10}$ values of $0.34 - \\sigma_{10}$ and $0.34 + \\sigma_{10}$ and plot the results in a figure."
   ]
  },
  {
   "cell_type": "code",
   "execution_count": 6,
   "metadata": {},
   "outputs": [],
   "source": [
    "# Your answer here"
   ]
  },
  {
   "cell_type": "markdown",
   "metadata": {},
   "source": [
    "**d) (5pt)** \n",
    "\n",
    "Create a function to compute the half-life of caffeine in the plasma from the simulations. For the simulation in part *b*, compute the half-life of caffeine."
   ]
  },
  {
   "cell_type": "code",
   "execution_count": 7,
   "metadata": {},
   "outputs": [],
   "source": [
    "# Your answer here"
   ]
  },
  {
   "cell_type": "markdown",
   "metadata": {},
   "source": [
    "**e) (2pt)** \n",
    "\n",
    "Simulate the model for 100 equally spaced values of $k_{10}$, ranging from $0.34 - 3 \\cdot \\sigma_{10}$ to $0.34 + 3 \\cdot \\sigma_{10}$ and compute the half-life $t_{1/2}$ of caffeine. Visualize the effect of $k_{10}$ on the half-life of caffeine and describe this relationship."
   ]
  },
  {
   "cell_type": "code",
   "execution_count": 8,
   "metadata": {},
   "outputs": [],
   "source": [
    "# Your answer here"
   ]
  }
 ],
 "metadata": {
  "kernelspec": {
   "display_name": "8bm050",
   "language": "python",
   "name": "python3"
  },
  "language_info": {
   "codemirror_mode": {
    "name": "ipython",
    "version": 3
   },
   "file_extension": ".py",
   "mimetype": "text/x-python",
   "name": "python",
   "nbconvert_exporter": "python",
   "pygments_lexer": "ipython3",
   "version": "3.12.5"
  }
 },
 "nbformat": 4,
 "nbformat_minor": 2
}
