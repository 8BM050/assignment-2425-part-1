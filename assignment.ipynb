{
 "cells": [
  {
   "cell_type": "markdown",
   "metadata": {},
   "source": [
    "# 8BM050 - Practical Assignment Part 1\n",
    "Welcome to the first practical assignment of the course 8BM050. This assignment is divided into ? questions and should be solved individually. The amount of points for each question is given in the question text. The total amount of points is 100. \n",
    "\n",
    "## Submission\n",
    "Submit your solutions as a single Jupyter notebook file. The notebook should contain all the code and text answers."
   ]
  },
  {
   "cell_type": "markdown",
   "metadata": {},
   "source": [
    "## Packages\n",
    "You are allowed to use only the packages that are imported in the next cell. If you want to use any other package, you need to ask for permission."
   ]
  },
  {
   "cell_type": "code",
   "execution_count": 1,
   "metadata": {},
   "outputs": [
    {
     "name": "stdout",
     "output_type": "stream",
     "text": [
      "Detected IPython. Loading juliacall extension. See https://juliapy.github.io/PythonCall.jl/stable/compat/#IPython\n"
     ]
    },
    {
     "name": "stderr",
     "output_type": "stream",
     "text": [
      "  Activating project at `~/.julia/environments/diffeqpy`\n"
     ]
    }
   ],
   "source": [
    "# packages\n",
    "from diffeqpy import ode\n",
    "import numpy as np\n",
    "import matplotlib.pyplot as plt\n",
    "import matplotlib as mpl"
   ]
  },
  {
   "cell_type": "markdown",
   "metadata": {},
   "source": [
    "# Question 1\n",
    "(20 points)"
   ]
  },
  {
   "cell_type": "markdown",
   "metadata": {},
   "source": [
    "\n",
    "\n",
    "**a)** Consider the following unweighted directed graph:\n",
    "\n",
    "![graph](assets/assignment_1_graph.png)\n",
    "\n",
    "Define a python variable `adjacency_matrix` that is a `numpy array` representing the adjacency matrix of the graph. The element index `(i, j)` should correspond to the edge from node `i` to node `j`. If there is no edge between the nodes, the element should be zero."
   ]
  },
  {
   "cell_type": "code",
   "execution_count": 2,
   "metadata": {},
   "outputs": [],
   "source": [
    "# Your answer here"
   ]
  },
  {
   "cell_type": "markdown",
   "metadata": {},
   "source": [
    "**b)** Define two functions: `in_degree` and `out_degree`, that receive the adjacency matrix and a node index and return the in-degree and out-degree of the node, respectively."
   ]
  },
  {
   "cell_type": "code",
   "execution_count": 3,
   "metadata": {},
   "outputs": [],
   "source": [
    "def in_degree(adjacency_matrix, node_index):\n",
    "  # Your answer here\n",
    "  return None\n",
    "\n",
    "def out_degree(adjacency_matrix, node_index):\n",
    "  # Your answer here\n",
    "  return None"
   ]
  },
  {
   "cell_type": "markdown",
   "metadata": {},
   "source": [
    "**c)** Create a plot of the in-degree and out-degree distribution of the graph. The x-axis should represent the degree and the y-axis the number of nodes with that degree."
   ]
  },
  {
   "cell_type": "code",
   "execution_count": 4,
   "metadata": {},
   "outputs": [],
   "source": [
    "# Your answer here"
   ]
  },
  {
   "cell_type": "markdown",
   "metadata": {},
   "source": [
    "**d)** Use the adjacency matrix to compute the amount of walks of length 6 that exist in the graph that start and end in the same node."
   ]
  },
  {
   "cell_type": "code",
   "execution_count": 5,
   "metadata": {},
   "outputs": [],
   "source": [
    "# Your answer here"
   ]
  },
  {
   "cell_type": "markdown",
   "metadata": {},
   "source": [
    "# Question 2\n",
    "(20 points)\n",
    "\n",
    "Consider the following mathematical model of three differential equations:\n",
    "$$\n",
    "\\begin{align}\n",
    "\n",
    "&\\frac{\\mathrm{d}x}{\\mathrm{d}t} = \\mu_{\\text{max}} \\left(\\frac{S}{K_x + S}\\right)x - k_{\\text{death}}x\\\\\n",
    "&\\frac{\\mathrm{d}P}{\\mathrm{d}t} = q_{\\text{max}}  \\left(\\frac{S}{K_p + S}\\right)x \\\\\n",
    "&\\frac{\\mathrm{d}S}{\\mathrm{d}t} = -\\left(\\frac{1}{Y_{x/s}} \\frac{\\mathrm{d}x}{\\mathrm{d}t} + \\frac{1}{Y_{p/s}} \\frac{\\mathrm{d}P}{\\mathrm{d}t}\\right)\n",
    "\n",
    "\\end{align}\n",
    "$$\n",
    "\n",
    "This model describes the growth of a microorganism $x$, which consumes a substrate $S$ to produce a product $P$. The microorganism also dies at a rate of $k_{\\text{death}}$.\n",
    "\n",
    "The parameters of the model are given by:\n",
    "| Parameter | Value | Unit |\n",
    "|-----------|-------| ---- |\n",
    "| $\\mu_{\\text{max}}$ | 0.267 | 1/h |\n",
    "| $K_x$ | 0.610 | g/L |\n",
    "| $q_{\\text{max}}$ | 0.3 | g biomass / (h g/L) | \n",
    "| $K_p$ | 0.2 | g/L |\n",
    "| $Y_{x/s}$ | 9.01 | g biomass / g |\n",
    "| $Y_{p/s}$ | 0.42 | - |\n",
    "| $k_{\\text{death}}$ | 0.232 | 1/h |\n",
    "\n",
    "And initial conditions:\n",
    "| Variable | Value | Unit |\n",
    "|-----------|-------| ---- |\n",
    "| $x_0$ | 1 | g biomass |\n",
    "| $P_0$ | 0.0 | g/L |\n",
    "| $S_0$ | 100 | g/L |\n",
    "\n"
   ]
  },
  {
   "cell_type": "markdown",
   "metadata": {},
   "source": [
    "**a)** Implement the system of differential equations and simulate it for 72 hours. Plot the values of $x$, $P$ and $S$ over time. As a solver, use the `ode.Rosenbrock23(autodiff=False)` method."
   ]
  },
  {
   "cell_type": "code",
   "execution_count": 6,
   "metadata": {},
   "outputs": [],
   "source": [
    "# Your answer here"
   ]
  },
  {
   "cell_type": "markdown",
   "metadata": {},
   "source": [
    "**b)** Change the parameter $K_x$ to various values between 0.01 and 10 and plot the values of $x$, $P$ and $S$ over time for each value of $K_x$. What is the effect of changing $K_x$ on the system?"
   ]
  },
  {
   "cell_type": "code",
   "execution_count": 7,
   "metadata": {},
   "outputs": [],
   "source": [
    "# Your answer here\n"
   ]
  },
  {
   "cell_type": "markdown",
   "metadata": {},
   "source": [
    "Answer to question **b**:\n",
    "\n"
   ]
  },
  {
   "cell_type": "markdown",
   "metadata": {},
   "source": [
    "Your answer here."
   ]
  },
  {
   "cell_type": "markdown",
   "metadata": {},
   "source": [
    "**c)** Plot the state-space of each combination of state variables in the system using the parameters from **a**."
   ]
  },
  {
   "cell_type": "code",
   "execution_count": 8,
   "metadata": {},
   "outputs": [],
   "source": [
    "# Your answer here"
   ]
  },
  {
   "cell_type": "markdown",
   "metadata": {},
   "source": [
    "## Question 3\n",
    "(20 points)\n",
    "\n",
    "We have two molecules $A$ and $B$. The molecule $A$ is spontaneously converted into a molecule $B$ with a rate $k_1$. In the presence of a molecule $X$, the rate of conversion of $A$ into $B$ is increased with $k_{\\text{stim}}X$. The molecule $B$ is spontaneously converted back into $A$ with a rate $k_2$. The molecule $X$ does not affect the conversion of $B$ into $A$. Additionally, the molecule $X$ is not produced, but degrades with a rate $k_{\\text{deg}}$. "
   ]
  },
  {
   "cell_type": "markdown",
   "metadata": {},
   "source": [
    "**a)** Draw a diagram of the system. Indicate the reactions and the rates of each reaction."
   ]
  },
  {
   "cell_type": "markdown",
   "metadata": {},
   "source": [
    "\n",
    "Your answer here"
   ]
  },
  {
   "cell_type": "markdown",
   "metadata": {},
   "source": [
    "**b)** Write down the system of differential equations that describes the system."
   ]
  },
  {
   "cell_type": "markdown",
   "metadata": {},
   "source": [
    "Your answer here"
   ]
  },
  {
   "cell_type": "markdown",
   "metadata": {},
   "source": [
    "**c)** Given are the following parameter values and initial conditions. \n",
    "- $k_1 = 0.002$\n",
    "- $k_2 = 0.05$\n",
    "- $k_{\\text{stim}} = 0.03$\n",
    "- $k_{\\text{deg}} = 0.05$\n",
    "\n",
    "Use the initial conditions:\n",
    "- $A_0 = 100$ mM\n",
    "- $B_0 = 0$ mM\n",
    "- $X_0 = 1$ mM\n",
    "\n",
    "Derive the units of the rate constants."
   ]
  },
  {
   "cell_type": "markdown",
   "metadata": {},
   "source": [
    "Answer to question **c**:"
   ]
  },
  {
   "cell_type": "markdown",
   "metadata": {},
   "source": [
    "Your answer here"
   ]
  },
  {
   "cell_type": "markdown",
   "metadata": {},
   "source": [
    "**d)** Implement the system of differential equations and simulate it for 100 minutes. Plot the values of $A$, $B$ and $X$ over time."
   ]
  },
  {
   "cell_type": "code",
   "execution_count": 9,
   "metadata": {},
   "outputs": [],
   "source": [
    "# Your answer here"
   ]
  }
 ],
 "metadata": {
  "kernelspec": {
   "display_name": "8bm050",
   "language": "python",
   "name": "python3"
  },
  "language_info": {
   "codemirror_mode": {
    "name": "ipython",
    "version": 3
   },
   "file_extension": ".py",
   "mimetype": "text/x-python",
   "name": "python",
   "nbconvert_exporter": "python",
   "pygments_lexer": "ipython3",
   "version": "3.12.5"
  }
 },
 "nbformat": 4,
 "nbformat_minor": 2
}
